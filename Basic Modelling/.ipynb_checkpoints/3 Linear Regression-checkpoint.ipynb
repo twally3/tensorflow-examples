{
 "cells": [
  {
   "cell_type": "markdown",
   "metadata": {},
   "source": [
    "# Tensorflow Linear Regression Model\n",
    "Okay, so this isn't quite a neural network yet but it is important that you understand whats going on here, as it is the basis of all neural networks. We will be using tensorflow for linear regression, in laymans terms, drawing a line of best fit.\n",
    "\n",
    "Regression is the process of recogising a trend the the data and being able to predict future values."
   ]
  },
  {
   "cell_type": "markdown",
   "metadata": {},
   "source": [
    "## First we need to import our dependencies\n",
    "First we import tensorflow as always. \n",
    "Next we import numpy, numpy is a fantastic library for more advanced maths. You can find the documentation [here](http://www.numpy.org)\n",
    "Finally we are importing pyplot from matplotlib just so we can draw our graph at the end!"
   ]
  },
  {
   "cell_type": "code",
   "execution_count": 1,
   "metadata": {
    "collapsed": true
   },
   "outputs": [],
   "source": [
    "import tensorflow as tf\n",
    "import numpy as np\n",
    "import matplotlib.pyplot as plt"
   ]
  },
  {
   "cell_type": "markdown",
   "metadata": {},
   "source": [
    "## Hyperparameters\n",
    "You will soon learn that these numbers will eventually become the bane of your existance. Hyperparameters are essentially the conceptual tuning knobs for our network. Changing them allows us to improve the accuracy of our final result.\n",
    "\n",
    "Learning Rate: The rate at which the network learns during gradient descent. You may want to just make this number huge but hold on a sec. If the learning rate is too small the network will train too slowly, too big and you will completely overshoot the optimal gradient. Mathematically speaking, it is the size of the step taken when we are trying to move down the gradient.\n",
    "\n",
    "training epochs: the number of iterations for training. Too few and you won't learn enough. Too many and you risk overfitting.\n",
    "\n",
    "display step: just for our aesthetical purposes. It is how many epochs should pass before we display the current status of the network."
   ]
  },
  {
   "cell_type": "code",
   "execution_count": 2,
   "metadata": {
    "collapsed": true
   },
   "outputs": [],
   "source": [
    "# Parameters\n",
    "learning_rate = 0.01\n",
    "training_epochs = 1000\n",
    "display_step = 50"
   ]
  },
  {
   "cell_type": "markdown",
   "metadata": {},
   "source": [
    "## Loading the data\n",
    "Next we need to get the data from the data.csv file into python. We will use numpys genfromtxt function to load the data then iterate through it to seperate the x and the y data."
   ]
  },
  {
   "cell_type": "code",
   "execution_count": 3,
   "metadata": {
    "collapsed": true
   },
   "outputs": [],
   "source": [
    "points = np.genfromtxt('data.csv', delimiter=\",\")\n",
    "x = list()\n",
    "y = list()\n",
    "for i in range(0, len(points)):\n",
    "    x.append(points[i, 0])\n",
    "    y.append(points[i, 1])"
   ]
  },
  {
   "cell_type": "code",
   "execution_count": 4,
   "metadata": {
    "collapsed": false
   },
   "outputs": [
    {
     "data": {
      "text/plain": [
       "array([[ 32.50234527,  31.70700585],\n",
       "       [ 53.42680403,  68.77759598],\n",
       "       [ 61.53035803,  62.5623823 ],\n",
       "       [ 47.47563963,  71.54663223],\n",
       "       [ 59.81320787,  87.23092513]])"
      ]
     },
     "execution_count": 4,
     "metadata": {},
     "output_type": "execute_result"
    }
   ],
   "source": [
    "points[:5]"
   ]
  },
  {
   "cell_type": "markdown",
   "metadata": {},
   "source": [
    "Now we take the data and convert them into numpy arrays and get the number of samples for the cost calculation later on"
   ]
  },
  {
   "cell_type": "code",
   "execution_count": 5,
   "metadata": {
    "collapsed": false
   },
   "outputs": [],
   "source": [
    "train_X = np.asarray(x)\n",
    "train_Y = np.asarray(y)\n",
    "n_samples = train_X.shape[0]"
   ]
  },
  {
   "cell_type": "markdown",
   "metadata": {},
   "source": [
    "## Tensorflow Placeholders\n",
    "Next we need to set up placeholders for the x and y values. As we know these values are float types we will use tf.float32 to define the type. \n",
    "\n",
    "We are now going to use tf.Variable(s) to store the weights and the biases. The tf.Variable method is given a value when it is initialized. However unlike tf.constant its values can be changed. \n",
    "\n",
    "Here we will initialize the weight and bias as random numbers from the numpy.random.randn method."
   ]
  },
  {
   "cell_type": "code",
   "execution_count": 6,
   "metadata": {
    "collapsed": false
   },
   "outputs": [],
   "source": [
    "# tf Graph Input\n",
    "X = tf.placeholder(tf.float32)\n",
    "Y = tf.placeholder(tf.float32)\n",
    "\n",
    "# Set model weights\n",
    "W = tf.Variable(np.random.randn(), name=\"weight\")\n",
    "b = tf.Variable(np.random.randn(), name=\"bias\")"
   ]
  },
  {
   "cell_type": "markdown",
   "metadata": {},
   "source": [
    "## Weights and biases?\n",
    "Weights and biases are additional tuning knobs to help the network reach convergance (the most optimal state). The difference between these values are that they are automatically adjusted by the network during optimisation. This is where the learning happens.\n",
    "\n",
    "Remember the equation of a straight line from school: y = mx + b\n",
    "\n",
    "Well here the weight value is the gradient (m) and the bias are the y-intercept (b) With these two properties the line can be transformed in any way. We can therefore adjust these values to fit the data."
   ]
  },
  {
   "cell_type": "code",
   "execution_count": 7,
   "metadata": {
    "collapsed": true
   },
   "outputs": [],
   "source": [
    "pred = tf.add(tf.mul(X, W), b)"
   ]
  },
  {
   "cell_type": "markdown",
   "metadata": {},
   "source": [
    "## Learning\n",
    "Next, it's time to make the network learn. Humans learn through trial and error. The more we try, the more we improve. This principle also applies to our learning technique. First we plot the line. Then we work out how wrong our line is. We do this using the Mean Squared Error\n",
    "![alt](http://www.aoml.noaa.gov/hrd/Landsea/artificial/equa-4)\n",
    "We then use something called gradient descent to work out by how much we need to adjust our weights and biases to be more accurate i.e. minimise the error value. This is calculated using partial derivatives. We take the change in the Error with respect to the weight and the bias values for each node. In this case we only have one weight and one bias\n",
    "![alt](https://spin.atomicobject.com/wp-content/uploads/gradient_descent_error_by_iteration.png)"
   ]
  },
  {
   "cell_type": "code",
   "execution_count": 8,
   "metadata": {
    "collapsed": false
   },
   "outputs": [],
   "source": [
    "# Mean squared error\n",
    "cost = tf.reduce_sum(tf.pow(pred-Y, 2))/(2*n_samples)\n",
    "# Gradient descent\n",
    "optimizer = tf.train.GradientDescentOptimizer(learning_rate).minimize(cost)"
   ]
  },
  {
   "cell_type": "markdown",
   "metadata": {},
   "source": [
    "## It's session time!\n",
    "Now we have done all the maths its time to run the session. When using tf.Variables remember to always initialise them in the current graph (session).\n",
    "\n",
    "We iterate for our specified number of epochs. Within this loop, we loop through each x and corresponding y values for optimisation. To optimise, pass the optimiser variable into the session and give it the x and y data through the feed dict.\n",
    "\n",
    "Everything else is just to display cost and other values to us while we learn. Just so we can make sure it is learning!"
   ]
  },
  {
   "cell_type": "code",
   "execution_count": 9,
   "metadata": {
    "collapsed": true
   },
   "outputs": [],
   "source": [
    "# Initializing the variables\n",
    "init = tf.global_variables_initializer()"
   ]
  },
  {
   "cell_type": "code",
   "execution_count": 10,
   "metadata": {
    "collapsed": false
   },
   "outputs": [
    {
     "name": "stdout",
     "output_type": "stream",
     "text": [
      "Epoch: 0050 cost= 68.277984619 W= 1.56078 b= 0.899695\n",
      "Epoch: 0100 cost= 68.220703125 W= 1.55826 b= 1.02268\n",
      "Epoch: 0150 cost= 68.165046692 W= 1.55579 b= 1.14327\n",
      "Epoch: 0200 cost= 68.111083984 W= 1.55337 b= 1.26153\n",
      "Epoch: 0250 cost= 68.058670044 W= 1.551 b= 1.37749\n",
      "Epoch: 0300 cost= 68.007804871 W= 1.54867 b= 1.4912\n",
      "Epoch: 0350 cost= 67.958366394 W= 1.54639 b= 1.60271\n",
      "Epoch: 0400 cost= 67.910469055 W= 1.54415 b= 1.71205\n",
      "Epoch: 0450 cost= 67.863914490 W= 1.54196 b= 1.81927\n",
      "Epoch: 0500 cost= 67.818679810 W= 1.5398 b= 1.92441\n",
      "Epoch: 0550 cost= 67.774765015 W= 1.53769 b= 2.02751\n",
      "Epoch: 0600 cost= 67.732063293 W= 1.53562 b= 2.12861\n",
      "Epoch: 0650 cost= 67.690673828 W= 1.5336 b= 2.22774\n",
      "Epoch: 0700 cost= 67.650367737 W= 1.53161 b= 2.32495\n",
      "Epoch: 0750 cost= 67.611289978 W= 1.52965 b= 2.42028\n",
      "Epoch: 0800 cost= 67.573219299 W= 1.52774 b= 2.51376\n",
      "Epoch: 0850 cost= 67.536308289 W= 1.52586 b= 2.60543\n",
      "Epoch: 0900 cost= 67.500411987 W= 1.52403 b= 2.69531\n",
      "Epoch: 0950 cost= 67.465484619 W= 1.52222 b= 2.78345\n",
      "Epoch: 1000 cost= 67.431541443 W= 1.52045 b= 2.86988\n",
      "Optimization Finished!\n",
      "Training cost= 67.4315 W= 1.52045 b= 2.86988 \n",
      "\n"
     ]
    },
    {
     "data": {
      "image/png": "[encoded data removed]",
      "text/plain": [
       "<matplotlib.figure.Figure at 0x10d4a3c18>"
      ]
     },
     "metadata": {},
     "output_type": "display_data"
    }
   ],
   "source": [
    "# Launch the graph\n",
    "with tf.Session() as sess:\n",
    "    sess.run(init)\n",
    "\n",
    "    # Fit all training data\n",
    "    for epoch in range(training_epochs):\n",
    "        for (x, y) in zip(train_X, train_Y):\n",
    "            sess.run(optimizer, feed_dict={X: x, Y: y})\n",
    "\n",
    "        #Display logs per epoch step\n",
    "        if (epoch+1) % display_step == 0:\n",
    "            c = sess.run(cost, feed_dict={X: train_X, Y:train_Y})\n",
    "            print (\"Epoch:\", '%04d' % (epoch+1), \"cost=\", \"{:.9f}\".format(c), \"W=\", sess.run(W), \"b=\", sess.run(b))\n",
    "\n",
    "    print (\"Optimization Finished!\")\n",
    "    training_cost = sess.run(cost, feed_dict={X: train_X, Y: train_Y})\n",
    "    print (\"Training cost=\", training_cost, \"W=\", sess.run(W), \"b=\", sess.run(b), '\\n')\n",
    "\n",
    "    #Graphic display\n",
    "    plt.plot(train_X, train_Y, 'ro', label='Original data')\n",
    "    plt.plot(train_X, sess.run(W) * train_X + sess.run(b), label='Fitted line')\n",
    "    plt.legend()\n",
    "    plt.show()"
   ]
  },
  {
   "cell_type": "markdown",
   "metadata": {},
   "source": [
    "## Conclusion\n",
    "That't it you have created a program that can learn on its own. The principles in this project are applied for all neural networks as you will soon learn."
   ]
  }
 ],
 "metadata": {
  "kernelspec": {
   "display_name": "Python 3",
   "language": "python",
   "name": "python3"
  },
  "language_info": {
   "codemirror_mode": {
    "name": "ipython",
    "version": 3
   },
   "file_extension": ".py",
   "mimetype": "text/x-python",
   "name": "python",
   "nbconvert_exporter": "python",
   "pygments_lexer": "ipython3",
   "version": "3.5.2"
  }
 },
 "nbformat": 4,
 "nbformat_minor": 2
}
