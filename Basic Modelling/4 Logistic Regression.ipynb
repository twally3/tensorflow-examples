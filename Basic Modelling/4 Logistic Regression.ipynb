{
 "cells": [
  {
   "cell_type": "markdown",
   "metadata": {},
   "source": [
    "# Logistic Regression with Tensorflow\n",
    "Logistic regression is a statistical method of analyzing a dataset with one or more independant variables. It differs from linear regression where by the dependent variable is limited to a certain set of outputs. Here we will be using logistic regression to classify a set of handwritten digits from the MNIST dataset."
   ]
  },
  {
   "cell_type": "markdown",
   "metadata": {},
   "source": [
    "## Import Dependencies\n",
    "First import tensorflow. Then we need to import the MNIST dataset. Tensorflow makes this simple as it is part of the tf library.\n",
    "\n",
    "### One Hot Encoding\n",
    "You may notice that when we are reading the datasets we set a parameter called one_hot to true. One hot encoding is generally used for classification. A one hot encoded set of outputs has a bit that can be either 0 or 1 for each output. In this case we have the numbers 0-9 we therefore have 10 output values where 4 is reprisented as \n",
    ">[0,0,0,0,1,0,0,0,0,0]\n",
    "\n",
    "This is done to make it easier for the network to train."
   ]
  },
  {
   "cell_type": "code",
   "execution_count": 1,
   "metadata": {
    "collapsed": false
   },
   "outputs": [
    {
     "name": "stdout",
     "output_type": "stream",
     "text": [
      "Extracting MNIST_data/train-images-idx3-ubyte.gz\n",
      "Extracting MNIST_data/train-labels-idx1-ubyte.gz\n",
      "Extracting MNIST_data/t10k-images-idx3-ubyte.gz\n",
      "Extracting MNIST_data/t10k-labels-idx1-ubyte.gz\n"
     ]
    }
   ],
   "source": [
    "import tensorflow as tf\n",
    "\n",
    "# Import MNIST data\n",
    "from tensorflow.examples.tutorials.mnist import input_data\n",
    "mnist = input_data.read_data_sets(\"MNIST_data/\", one_hot=True)"
   ]
  },
  {
   "cell_type": "markdown",
   "metadata": {},
   "source": [
    "## Visualising the data\n",
    "It's always good to get familliar with your data. Using matplotlib (the saving grace of anything graphical) the data from MNIST can be rendered on a graph!"
   ]
  },
  {
   "cell_type": "code",
   "execution_count": 2,
   "metadata": {
    "collapsed": false
   },
   "outputs": [
    {
     "data": {
      "image/png": "[encoded data removed]",
      "text/plain": [
       "<matplotlib.figure.Figure at 0x10446a898>"
      ]
     },
     "metadata": {},
     "output_type": "display_data"
    }
   ],
   "source": [
    "# Visualizing the data\n",
    "import matplotlib.pyplot as plt\n",
    "%matplotlib inline\n",
    "\n",
    "# Function for displaying a training image by it's index in the MNIST set\n",
    "def show_digit(index):\n",
    "#     label = trainY[index].argmax(axis=0)\n",
    "    # Reshape 784 array into 28x28 image\n",
    "#     image = trainX[index].reshape([28,28])\n",
    "    label = mnist.train.labels[index].argmax(axis=0)\n",
    "    image = mnist.train.images[index].reshape([28, 28])\n",
    "    plt.title('Training data, index: %d,  Label: %d' % (index, label))\n",
    "    plt.imshow(image, cmap='gray_r')\n",
    "    plt.show()\n",
    "    \n",
    "# Display the first (index 0) training image\n",
    "show_digit(3)"
   ]
  },
  {
   "cell_type": "markdown",
   "metadata": {},
   "source": [
    "## Well here we are again (it's always such a pleasure)\n",
    "Next we define the hyperparameters. You may notice we have a new one amongst us. The batch size. This is the max number of that will be passed into the network at once. It is much less memory intensive to pass smaller batches throught the network rather than each one at once. It also allows the network to train faster as the weights are updated for each batch per epoch"
   ]
  },
  {
   "cell_type": "code",
   "execution_count": 3,
   "metadata": {
    "collapsed": true
   },
   "outputs": [],
   "source": [
    "# Parameters\n",
    "learning_rate = 0.01\n",
    "training_epochs = 25\n",
    "batch_size = 100\n",
    "display_step = 1"
   ]
  },
  {
   "cell_type": "markdown",
   "metadata": {},
   "source": [
    "## Define our data properties\n",
    "It's always good practice to define our data's parameters. It shows that we have understood how our data works and it is simple as we will be referencing them later"
   ]
  },
  {
   "cell_type": "code",
   "execution_count": 4,
   "metadata": {
    "collapsed": true
   },
   "outputs": [],
   "source": [
    "n_inputs = 784 #28 * 28 = 784 The same of the MNIST images\n",
    "n_classes = 10 #One hot encoded 0-9"
   ]
  },
  {
   "cell_type": "markdown",
   "metadata": {},
   "source": [
    "## Build the model\n",
    "To build the model we define placeholders for the input and output layers and their respective sizes. We now have multiple weights and biases which we initialise as 0 matricies of shapes 784 * 10 and 10 respectively. \n",
    "\n",
    "Each node in the input layer connects to each node in the output layer. For a given output node we take the values for each input layer and multiply that by each weight that connects to that output layer and add them together to get the value. This is done for each output layer and each connection has its own set of weights\n",
    "\n",
    "![alt](http://neuroph.sourceforge.net/tutorials/images/perceptron.jpg)\n",
    "\n",
    "Finally we use the softmax activation function to calculate the probablilty of what the output will be. Softmax takes each output value and compresses them such that their total sum adds to one.\n",
    "\n",
    "![alt](https://jamesmccaffrey.files.wordpress.com/2016/03/softmaxequation.jpg?w=640)"
   ]
  },
  {
   "cell_type": "code",
   "execution_count": 5,
   "metadata": {
    "collapsed": true
   },
   "outputs": [],
   "source": [
    "# tf Graph Input\n",
    "x = tf.placeholder(tf.float32, [None, n_inputs]) # mnist data image of shape 28*28=784\n",
    "y = tf.placeholder(tf.float32, [None, n_classes]) # 0-9 digits recognition => 10 classes\n",
    "\n",
    "# Set model weights\n",
    "W = tf.Variable(tf.zeros([n_inputs, n_classes]))\n",
    "b = tf.Variable(tf.zeros([n_classes]))\n",
    "\n",
    "# Construct model\n",
    "pred = tf.nn.softmax(tf.matmul(x, W) + b) # Softmax"
   ]
  },
  {
   "cell_type": "markdown",
   "metadata": {},
   "source": [
    "## Calculate and reduce the error\n",
    "Just like before we use Cross Entropy to calculate the cost and optimise in the same way as before. Cross Entropy is just another function for calculating the cost. It is for calculating the error for each item in the vector outputted by softmax\n",
    "![alt](https://d17h27t6h515a5.cloudfront.net/topher/2017/February/589b18f5_cross-entropy-diagram/cross-entropy-diagram.png)"
   ]
  },
  {
   "cell_type": "code",
   "execution_count": 6,
   "metadata": {
    "collapsed": true
   },
   "outputs": [],
   "source": [
    "# Minimize error using cross entropy\n",
    "cost = tf.reduce_mean(-tf.reduce_sum(y*tf.log(pred), reduction_indices=1))\n",
    "# Gradient Descent\n",
    "optimizer = tf.train.GradientDescentOptimizer(learning_rate).minimize(cost)"
   ]
  },
  {
   "cell_type": "markdown",
   "metadata": {},
   "source": [
    "## Start the graph"
   ]
  },
  {
   "cell_type": "code",
   "execution_count": 7,
   "metadata": {
    "collapsed": true
   },
   "outputs": [],
   "source": [
    "# Initializing the variables\n",
    "init = tf.global_variables_initializer()"
   ]
  },
  {
   "cell_type": "code",
   "execution_count": 8,
   "metadata": {
    "collapsed": false
   },
   "outputs": [
    {
     "name": "stdout",
     "output_type": "stream",
     "text": [
      "Epoch: 0001 cost= 1.182138980\n",
      "Epoch: 0002 cost= 0.664828202\n",
      "Epoch: 0003 cost= 0.552770787\n",
      "Epoch: 0004 cost= 0.498630970\n",
      "Epoch: 0005 cost= 0.465495543\n",
      "Epoch: 0006 cost= 0.442459152\n",
      "Epoch: 0007 cost= 0.425508859\n",
      "Epoch: 0008 cost= 0.412122641\n",
      "Epoch: 0009 cost= 0.401368072\n",
      "Epoch: 0010 cost= 0.392369696\n",
      "Epoch: 0011 cost= 0.384760975\n",
      "Epoch: 0012 cost= 0.378156591\n",
      "Epoch: 0013 cost= 0.372398087\n",
      "Epoch: 0014 cost= 0.367266582\n",
      "Epoch: 0015 cost= 0.362763758\n",
      "Epoch: 0016 cost= 0.358615950\n",
      "Epoch: 0017 cost= 0.354888233\n",
      "Epoch: 0018 cost= 0.351408012\n",
      "Epoch: 0019 cost= 0.348339124\n",
      "Epoch: 0020 cost= 0.345408297\n",
      "Epoch: 0021 cost= 0.342743186\n",
      "Epoch: 0022 cost= 0.340257424\n",
      "Epoch: 0023 cost= 0.337887060\n",
      "Epoch: 0024 cost= 0.335766784\n",
      "Epoch: 0025 cost= 0.333713177\n",
      "Optimization Finished!\n",
      "Accuracy: 0.887333\n"
     ]
    }
   ],
   "source": [
    "# Launch the graph\n",
    "with tf.Session() as sess:\n",
    "    sess.run(init)\n",
    "\n",
    "    # Training cycle\n",
    "    for epoch in range(training_epochs):\n",
    "        avg_cost = 0.\n",
    "        total_batch = int(mnist.train.num_examples/batch_size)\n",
    "        # Loop over all batches\n",
    "        for i in range(total_batch):\n",
    "            batch_xs, batch_ys = mnist.train.next_batch(batch_size)\n",
    "            # Fit training using batch data\n",
    "            _, c = sess.run([optimizer, cost], feed_dict={x: batch_xs,\n",
    "                                                          y: batch_ys})\n",
    "            # Compute average loss\n",
    "            avg_cost += c / total_batch\n",
    "        # Display logs per epoch step\n",
    "        if (epoch+1) % display_step == 0:\n",
    "            print (\"Epoch:\", '%04d' % (epoch+1), \"cost=\", \"{:.9f}\".format(avg_cost))\n",
    "\n",
    "    print (\"Optimization Finished!\")\n",
    "\n",
    "    # Test model\n",
    "    correct_prediction = tf.equal(tf.argmax(pred, 1), tf.argmax(y, 1))\n",
    "    # Calculate accuracy for 3000 examples\n",
    "    accuracy = tf.reduce_mean(tf.cast(correct_prediction, tf.float32))\n",
    "    print (\"Accuracy:\", accuracy.eval({x: mnist.test.images[:3000], y: mnist.test.labels[:3000]}))"
   ]
  },
  {
   "cell_type": "markdown",
   "metadata": {},
   "source": [
    "## Conclusion\n",
    "Using a single layer neural network we have predicted the value of a handwritten digit using logistic regression with an accuracy of 88.7%. Now we can add more layers."
   ]
  }
 ],
 "metadata": {
  "kernelspec": {
   "display_name": "Python 3",
   "language": "python",
   "name": "python3"
  },
  "language_info": {
   "codemirror_mode": {
    "name": "ipython",
    "version": 3
   },
   "file_extension": ".py",
   "mimetype": "text/x-python",
   "name": "python",
   "nbconvert_exporter": "python",
   "pygments_lexer": "ipython3",
   "version": "3.5.2"
  }
 },
 "nbformat": 4,
 "nbformat_minor": 2
}
