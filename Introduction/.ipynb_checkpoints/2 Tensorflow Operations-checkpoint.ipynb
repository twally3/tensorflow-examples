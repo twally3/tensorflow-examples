{
 "cells": [
  {
   "cell_type": "markdown",
   "metadata": {},
   "source": [
    "# Tensorflow Operations\n",
    "Here we will be using tensorflow to demonstrate the simple operations that can be achived using Tensorflow and how to handle variables."
   ]
  },
  {
   "cell_type": "markdown",
   "metadata": {},
   "source": [
    "## Import Tensorflow\n",
    "First we need to import tensorflow into the project. If you haven't already, you will need to download it from the tensorflow website here. Here we import it under the alias tf, just to save time when we reference it."
   ]
  },
  {
   "cell_type": "code",
   "execution_count": 1,
   "metadata": {
    "collapsed": true
   },
   "outputs": [],
   "source": [
    "import tensorflow as tf"
   ]
  },
  {
   "cell_type": "markdown",
   "metadata": {},
   "source": [
    "## Just a recap\n",
    "As before, we can do maths using constants storing numbers. Here we define two constants a and b with values 2 and 3 respectively."
   ]
  },
  {
   "cell_type": "code",
   "execution_count": 2,
   "metadata": {
    "collapsed": true
   },
   "outputs": [],
   "source": [
    "a = tf.constant(2)\n",
    "b = tf.constant(3)"
   ]
  },
  {
   "cell_type": "markdown",
   "metadata": {},
   "source": [
    "## Run the session\n",
    "Next we run the session just like normal but use standard maths notation to calculate the sum and the product of a and b. Then we print them out to the screen."
   ]
  },
  {
   "cell_type": "code",
   "execution_count": 3,
   "metadata": {
    "collapsed": false
   },
   "outputs": [
    {
     "name": "stdout",
     "output_type": "stream",
     "text": [
      "The sum of a and b is 5\n",
      "The product of a and b is 6\n"
     ]
    }
   ],
   "source": [
    "with tf.Session() as sess:\n",
    "    print(\"The sum of a and b is\", sess.run(a+b))\n",
    "    print(\"The product of a and b is\", sess.run(a*b))"
   ]
  },
  {
   "cell_type": "markdown",
   "metadata": {},
   "source": [
    "## Is there a better way?\n",
    "So far you probably cannot see why this is limited but I assure you it is, as you will soon see. What if we don't know the values to begin with? For this we can use placeholders. \n",
    "\n",
    "Placeholders do not get given their values until the session runs. However you can still do the maths with them. Sounds strange but it is an extremely powerful tool. Lets see how this works. Here we will set up two placeholders which both will hold int16 values. Datatypes work just like any other programming languge. The full list of supported types can be found [here](https://www.tensorflow.org/programmers_guide/dims_types)."
   ]
  },
  {
   "cell_type": "code",
   "execution_count": 4,
   "metadata": {
    "collapsed": true
   },
   "outputs": [],
   "source": [
    "a = tf.placeholder(tf.int16)\n",
    "b = tf.placeholder(tf.int16)"
   ]
  },
  {
   "cell_type": "markdown",
   "metadata": {},
   "source": [
    "## What now?\n",
    "Now we have these two placeholders we can do maths with them just like any other number. Just like before, we will calculate the sum and the product of a and b. The power here is that a and b do not yet have values, we will come back to this."
   ]
  },
  {
   "cell_type": "code",
   "execution_count": 5,
   "metadata": {
    "collapsed": true
   },
   "outputs": [],
   "source": [
    "add = tf.add(a, b)\n",
    "mult = tf.multiply(a, b)"
   ]
  },
  {
   "cell_type": "markdown",
   "metadata": {},
   "source": [
    "## Time to run the session\n",
    "This is where the real magic happens. It's time to give the placeholders their values. Here, just like before, we will give a and b, 2 and 3 respectively. We do this by passing them into the run method using the feed_dict parameter as a dictionary object."
   ]
  },
  {
   "cell_type": "code",
   "execution_count": 7,
   "metadata": {
    "collapsed": false
   },
   "outputs": [
    {
     "name": "stdout",
     "output_type": "stream",
     "text": [
      "The sum of a and b is 5\n",
      "The product of a and b is 6\n"
     ]
    }
   ],
   "source": [
    "with tf.Session() as sess:\n",
    "    print(\"The sum of a and b is\", sess.run(add, feed_dict={a: 2, b: 3}))\n",
    "    print(\"The product of a and b is\", sess.run(mult, feed_dict={a: 2, b: 3}))"
   ]
  },
  {
   "cell_type": "markdown",
   "metadata": {},
   "source": [
    "## How can we forget matrices?\n",
    "This is all very usefull. However we will normally be doing large computations using matrices. Believe it or not, this is also possible using the matmul method. Amazingly, everything just works exactly as it did before!"
   ]
  },
  {
   "cell_type": "code",
   "execution_count": 8,
   "metadata": {
    "collapsed": true
   },
   "outputs": [],
   "source": [
    "matrix1 = tf.constant([[2,3]])\n",
    "matrix2 = tf.constant([[1], [2]])"
   ]
  },
  {
   "cell_type": "code",
   "execution_count": 9,
   "metadata": {
    "collapsed": true
   },
   "outputs": [],
   "source": [
    "mult = tf.matmul(matrix1, matrix2)"
   ]
  },
  {
   "cell_type": "code",
   "execution_count": 10,
   "metadata": {
    "collapsed": false
   },
   "outputs": [
    {
     "name": "stdout",
     "output_type": "stream",
     "text": [
      "The product of a and b is [[8]]\n"
     ]
    }
   ],
   "source": [
    "with tf.Session() as sess:\n",
    "    print(\"The product of a and b is\", sess.run(mult))"
   ]
  },
  {
   "cell_type": "markdown",
   "metadata": {},
   "source": [
    "## Simple as that!\n",
    "You have now preformed mathematical operations with placeholders and constants using a tensorflow session. I think you are now ready my padawon!"
   ]
  }
 ],
 "metadata": {
  "kernelspec": {
   "display_name": "Python 3",
   "language": "python",
   "name": "python3"
  },
  "language_info": {
   "codemirror_mode": {
    "name": "ipython",
    "version": 3
   },
   "file_extension": ".py",
   "mimetype": "text/x-python",
   "name": "python",
   "nbconvert_exporter": "python",
   "pygments_lexer": "ipython3",
   "version": "3.5.2"
  }
 },
 "nbformat": 4,
 "nbformat_minor": 2
}
