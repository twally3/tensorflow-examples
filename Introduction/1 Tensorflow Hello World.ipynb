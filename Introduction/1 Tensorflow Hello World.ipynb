{
 "cells": [
  {
   "cell_type": "markdown",
   "metadata": {},
   "source": [
    "# Tensorflow Hello World\n",
    "Here we will be running a very simple session with tensorflow to print 'Hello World'. It may not seem like much now, but understanding the session is vital!"
   ]
  },
  {
   "cell_type": "markdown",
   "metadata": {},
   "source": [
    "## Import Tensorflow\n",
    "First we need to import tensorflow into the project. If you haven't already, you will need to download it from the tensorflow website [here](https://www.tensorflow.org/install/). Here we import it under the alias tf, just to save time when we reference it."
   ]
  },
  {
   "cell_type": "code",
   "execution_count": 1,
   "metadata": {
    "collapsed": true
   },
   "outputs": [],
   "source": [
    "import tensorflow as tf"
   ]
  },
  {
   "cell_type": "markdown",
   "metadata": {},
   "source": [
    "## Create a tensorflow constant\n",
    "Now we need to create a tensorflow variable to store the data for the session. As this value is not going to change we use a constant by defining tf.constant() and pass it the value between the perentheses."
   ]
  },
  {
   "cell_type": "code",
   "execution_count": 2,
   "metadata": {
    "collapsed": true
   },
   "outputs": [],
   "source": [
    "hello = tf.constant('Hello World')"
   ]
  },
  {
   "cell_type": "markdown",
   "metadata": {},
   "source": [
    "## Run the session\n",
    "Now that we have set everything up we need to run the session, this allows tensorflow to work with the values of veriables that we have defined. The with command just allows us to abbreviate the tf.Session() method for simplicity.\n",
    "\n",
    "To work with the variables we need to pass them to sess.run() so tensorflow can process them. Here we pass it the hello contant from before."
   ]
  },
  {
   "cell_type": "code",
   "execution_count": 3,
   "metadata": {
    "collapsed": false
   },
   "outputs": [
    {
     "name": "stdout",
     "output_type": "stream",
     "text": [
      "b'Hello World'\n"
     ]
    }
   ],
   "source": [
    "with tf.Session() as sess:\n",
    "    print(sess.run(hello))"
   ]
  },
  {
   "cell_type": "markdown",
   "metadata": {},
   "source": [
    "## Thats it!\n",
    "You have now created and run your first session in tensorflow. Now we can move on to the real fun!"
   ]
  }
 ],
 "metadata": {
  "kernelspec": {
   "display_name": "Python 3",
   "language": "python",
   "name": "python3"
  },
  "language_info": {
   "codemirror_mode": {
    "name": "ipython",
    "version": 3
   },
   "file_extension": ".py",
   "mimetype": "text/x-python",
   "name": "python",
   "nbconvert_exporter": "python",
   "pygments_lexer": "ipython3",
   "version": "3.5.2"
  }
 },
 "nbformat": 4,
 "nbformat_minor": 2
}
